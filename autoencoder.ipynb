{
 "cells": [
  {
   "cell_type": "code",
   "execution_count": 1,
   "metadata": {
    "collapsed": true
   },
   "outputs": [],
   "source": [
    "%load_ext autoreload\n",
    "%autoreload 2"
   ]
  },
  {
   "cell_type": "code",
   "execution_count": 2,
   "metadata": {},
   "outputs": [
    {
     "name": "stderr",
     "output_type": "stream",
     "text": [
      "/home/bruno/Apps/anaconda3/lib/python3.6/importlib/_bootstrap.py:205: RuntimeWarning: compiletime version 3.5 of module 'tensorflow.python.framework.fast_tensor_util' does not match runtime version 3.6\n",
      "  return f(*args, **kwds)\n",
      "Using TensorFlow backend.\n"
     ]
    }
   ],
   "source": [
    "import numpy as np\n",
    "import tensorflow as tf\n",
    "from config import Config\n",
    "import os\n",
    "\n",
    "from embeddings import load_embeddings\n",
    "\n",
    "from data_utils import QuoraDataset, DataIterator\n",
    "\n",
    "from tqdm import tqdm"
   ]
  },
  {
   "cell_type": "code",
   "execution_count": 3,
   "metadata": {},
   "outputs": [
    {
     "name": "stdout",
     "output_type": "stream",
     "text": [
      "Loading from saved word_embeddings\n",
      "Loading vocab\n"
     ]
    }
   ],
   "source": [
    "config = Config()\n",
    "loaded_embeddings, (w2idx, idx2w) = load_embeddings(config.glove_filename, binary=False)"
   ]
  },
  {
   "cell_type": "code",
   "execution_count": 4,
   "metadata": {
    "collapsed": true
   },
   "outputs": [],
   "source": [
    "max_pool = tf.contrib.keras.layers.GlobalMaxPool1D()\n",
    "tf_config = tf.ConfigProto()\n",
    "tf_config.gpu_options.allow_growth = True\n",
    "\n",
    "class AutoEncoder(object):\n",
    "    def __init__(self, config, embeddings):\n",
    "        self.config = config\n",
    "        self.embeddings = embeddings\n",
    "        self.vocab_size = len(embeddings)\n",
    "    \n",
    "    \n",
    "    def bilstm(self, seq, seq_len):\n",
    "        cell_fw = tf.nn.rnn_cell.LSTMCell(self.config.hidden_size)\n",
    "        cell_bw = tf.nn.rnn_cell.LSTMCell(self.config.hidden_size)\n",
    "        (output_fw, output_bw), state = tf.nn.bidirectional_dynamic_rnn(cell_fw, cell_bw, seq, sequence_length=seq_len,\n",
    "                                                                    dtype=tf.float32)\n",
    "        output = tf.concat([output_fw, output_bw], axis=-1)\n",
    "        return output, state\n",
    "\n",
    "    def lstm(self, seq, seq_len):\n",
    "        cell_fw = tf.nn.rnn_cell.LSTMCell(self.config.hidden_size)\n",
    "        output, state = tf.nn.dynamic_rnn(cell_fw, seq, sequence_length=seq_len, dtype=tf.float32)\n",
    "        return output, state\n",
    "\n",
    "#     def decode(self, code, initial_state):\n",
    "#         decoder_output_list = []\n",
    "#         cell_fw = tf.nn.rnn_cell.LSTMCell(2 * self.config.hidden_size)\n",
    "#         print(code)\n",
    "#         initial_states = []\n",
    "#         for i in range(self.config.batch_size):\n",
    "#             initial_states.append((initial_state.c[i], initial_state.h[i]))        \n",
    "        \n",
    "# #         output, _ = tf.contrib.legacy_seq2seq.rnn_decoder(decoder_inputs=dec_input, initial_state=initial_state, cell=cell_fw)\n",
    "#         for i, init in enumerate(initial_states):\n",
    "#             if i > 0:\n",
    "#                 tf.get_variable_scope().reuse_variables()\n",
    "#             dec_input = [tf.zeros([1, self.config.hidden_size])]\n",
    "#             decoder_output, _ = tf.contrib.legacy_seq2seq.rnn_decoder(decoder_inputs=dec_input, initial_state=init, cell=cell_fw)\n",
    "#             decoder_output_list.append(tf.stack(decoder_output, axis=1))\n",
    "            \n",
    "#         return decoder_output_list\n",
    "    \n",
    "    \n",
    "    def decode(self, initial_state):\n",
    "        cell_fw = tf.nn.rnn_cell.LSTMCell(2 * self.config.hidden_size)\n",
    "        dec_inputs = [tf.zeros(2 * self.config.hidden_size) for _ in range(self.config.batch_size)]\n",
    "        dec_inputs = tf.zeros([self.config.batch_size, self.config.padlen, 1])\n",
    "        output, state = tf.nn.dynamic_rnn(cell_fw, dec_inputs, initial_state=initial_state)\n",
    "        \n",
    "        return output, state\n",
    "\n",
    "    def build(self):\n",
    "        ### Placeholders\n",
    "        self.q1 = tf.placeholder(tf.int64, shape=[self.config.batch_size, None], name=\"question1\")\n",
    "        self.l1 = tf.placeholder(tf.int64, shape=[self.config.batch_size], name=\"len1\")\n",
    "\n",
    "        self.dropout = tf.placeholder(dtype=tf.float32, shape=[], name=\"dropout\")\n",
    "        self.lr = tf.placeholder(dtype=tf.float32, shape=[], name=\"lr\")\n",
    "\n",
    "        ### Embedding layer\n",
    "        with tf.variable_scope(\"word_embeddings\") as scope:\n",
    "            _word_embeddings = tf.Variable(self.embeddings, name=\"_word_embeddings\", dtype=tf.float32,\n",
    "                                           trainable=self.config.train_embeddings)\n",
    "            we1 = tf.nn.embedding_lookup(_word_embeddings, self.q1, name=\"q1_embedded\")\n",
    "\n",
    "            we1 = tf.nn.dropout(we1, keep_prob=1 - self.dropout)\n",
    "\n",
    "        ### Shared layer\n",
    "        with tf.variable_scope(\"bilstm\") as scope:\n",
    "            lstm1, state1 = self.bilstm(we1, self.l1)\n",
    "        \n",
    "        state = tf.contrib.rnn.LSTMStateTuple(tf.concat([state1[0].c, state1[1].c], axis=1), tf.concat([state1[0].h, state1[1].h], axis=1))\n",
    "        \n",
    "        ### Decoder\n",
    "        decoded, _ = self.decode(state)\n",
    "        \n",
    "        ### logits\n",
    "        with tf.variable_scope(\"linear_projection\") as scope:\n",
    "            W = tf.Variable(tf.random_normal([1, 2 * self.config.hidden_size, self.vocab_size], stddev=1e-3), name=\"w\")\n",
    "            self.logits = tf.nn.conv1d(decoded, W, 1, \"VALID\", name=\"logits\")\n",
    "\n",
    "            ### Loss\n",
    "        losses_mask = tf.sequence_mask(lengths=self.l1, maxlen=self.config.padlen, dtype=tf.float32)\n",
    "        losses = tf.nn.sparse_softmax_cross_entropy_with_logits(labels=self.q1, logits=self.logits)\n",
    "        \n",
    "        self.cross_entropy = tf.reduce_sum(losses * losses_mask) / tf.reduce_sum(losses_mask)\n",
    "        \n",
    "        ### Optimizer\n",
    "        with tf.variable_scope(\"train_step\") as scope:\n",
    "            if self.config.lr_method == \"adam\":\n",
    "                optimizer = tf.train.AdamOptimizer(self.lr)\n",
    "            elif self.config.lr_method == \"sgd\":\n",
    "                optimizer = tf.train.GradientDescentOptimizer(self.lr)\n",
    "\n",
    "            self.train_step = optimizer.minimize(self.cross_entropy)\n",
    "\n",
    "        ### Evaluation\n",
    "        correct_prediction = tf.equal(tf.argmax(self.logits, axis=-1), self.q1)\n",
    "        \n",
    "        self.accuracy = tf.reduce_sum(tf.cast(correct_prediction, tf.float32) * losses_mask) / tf.reduce_sum(losses_mask)\n",
    "\n",
    "        ### Init\n",
    "        self.init = tf.global_variables_initializer()\n",
    "\n",
    "        ### Summaries\n",
    "        with tf.variable_scope(\"summaries\") as scope:\n",
    "\n",
    "            # train\n",
    "            tf.summary.scalar('cross_entropy', self.cross_entropy)\n",
    "            tf.summary.scalar('accuracy', self.accuracy)\n",
    "            self.merged = tf.summary.merge_all()\n",
    "\n",
    "            # test\n",
    "            self.acc_value = tf.placeholder_with_default(tf.constant(0.0), shape=())\n",
    "            self.ce_value = tf.placeholder_with_default(tf.constant(0.0), shape=())\n",
    "            acc_summary = tf.summary.scalar('accuracy', self.acc_value)\n",
    "            ce_summary = tf.summary.scalar('cross_entropy', self.ce_value)\n",
    "            self.merged_eval = tf.summary.merge([acc_summary, ce_summary])\n",
    "\n",
    "        self.saver = tf.train.Saver()\n",
    "        \n",
    "    def run_epoch(self, sess, train, dev, test, epoch, lr, test_step=1000):\n",
    "        iterator = DataIterator(train, self.config.batch_size, strict=1)\n",
    "        nbatches = (iterator.max + self.config.batch_size - 1) // self.config.batch_size\n",
    "        dev_acc = 0\n",
    "\n",
    "        accuracy, cross = 0, 0\n",
    "        for i in tqdm(range(nbatches)):\n",
    "            q1, q2, l1, l2, y = iterator.__next__()\n",
    "            fd = {self.q1: q1, self.l1: l1, self.dropout: self.config.dropout, self.lr: lr}\n",
    "            _, summary = sess.run([self.train_step, self.merged], feed_dict=fd)\n",
    "\n",
    "            # tensorboard\n",
    "            if i % 10 == 0:\n",
    "                self.train_writer.add_summary(summary, epoch * nbatches + i)\n",
    "\n",
    "            if i % test_step == 0:\n",
    "                summary, dev_acc = self.run_evaluate(sess, dev)\n",
    "                self.dev_writer.add_summary(summary, epoch * nbatches + i)\n",
    "                print(\"Step {}/{}\".format(i, nbatches))\n",
    "                print(\"dev acc {:04.2f}\".format(100 * dev_acc))\n",
    "\n",
    "                summary, test_acc = self.run_evaluate(sess, test)\n",
    "                self.test_writer.add_summary(summary, epoch * nbatches + i)\n",
    "                print(\"test acc {:04.2f}\".format(100 * test_acc))\n",
    "\n",
    "        return dev_acc\n",
    "    \n",
    "    def run_evaluate(self, sess, data):\n",
    "        iterator = DataIterator(data, self.config.batch_size, strict=1)\n",
    "        nbatches = (iterator.max + self.config.batch_size - 1) // self.config.batch_size\n",
    "\n",
    "        accuracy, cross = 0, 0\n",
    "        for i in range(nbatches):\n",
    "            q1, q2, l1, l2, y = iterator.__next__()\n",
    "            fd = {self.q1: q1, self.l1: l1, self.dropout: 0, self.lr: 0}\n",
    "            acc, ce = sess.run([self.accuracy, self.cross_entropy], feed_dict=fd)\n",
    "\n",
    "            accuracy += acc * len(q1)\n",
    "            cross += ce * len(q1)\n",
    "\n",
    "        accuracy /= iterator.max\n",
    "        cross /= iterator.max\n",
    "\n",
    "        summary = sess.run(self.merged_eval, feed_dict={self.acc_value: accuracy, self.ce_value: cross})\n",
    "\n",
    "        return summary, accuracy\n",
    "\n",
    "    def train(self, train_data, dev_data, test_data):\n",
    "\n",
    "        best_acc = 0\n",
    "        nepoch_no_improv = 0\n",
    "\n",
    "        with tf.Session(config=tf_config) as sess:\n",
    "            self.train_writer = tf.summary.FileWriter(self.config.log_path + \"autoencoder/\" + \"train\", sess.graph)\n",
    "            self.dev_writer = tf.summary.FileWriter(self.config.log_path + \"autoencoder/\" + \"dev\", sess.graph)\n",
    "            self.test_writer = tf.summary.FileWriter(self.config.log_path + \"autoencoder/\" + \"test\", sess.graph)\n",
    "\n",
    "            sess.run(self.init)\n",
    "\n",
    "            lr = self.config.lr\n",
    "\n",
    "            print(\"Training in {}\".format(self.config.conf_dir))\n",
    "            for epoch in range(self.config.n_epochs):\n",
    "                print(\"Epoch {}/{} :\".format(epoch + 1, self.config.n_epochs))\n",
    "                dev_acc = self.run_epoch(sess, train_data, dev_data, test_data, epoch, lr)\n",
    "\n",
    "                lr *= self.config.lr_decay\n",
    "\n",
    "                if dev_acc > best_acc:\n",
    "                    nepoch_no_improv = 0\n",
    "                    if not os.path.exists(self.config.model_path):\n",
    "                        os.makedirs(self.config.model_path)\n",
    "                    self.saver.save(sess, self.config.model_path)\n",
    "                    best_acc = dev_acc\n",
    "                    print(\"New best score on dev !\")\n",
    "\n",
    "                else:\n",
    "                    lr /= self.config.lr_divide\n",
    "                    nepoch_no_improv += 1\n",
    "                    if nepoch_no_improv >= self.config.nepochs_no_improv:\n",
    "                        print(\"Early stopping after {} epochs without improvements\".format(nepoch_no_improv))\n",
    "                        break"
   ]
  },
  {
   "cell_type": "code",
   "execution_count": 5,
   "metadata": {
    "collapsed": true
   },
   "outputs": [],
   "source": [
    "### Loading Quora Datasets\n",
    "qd_train = QuoraDataset(config.train_filename, save_path=config.train_save)\n",
    "w2idx_train, idx2w_train = qd_train.w2idx, qd_train.idx2w\n",
    "\n",
    "embeddings = np.random.normal(scale=0.001, size=(len(w2idx_train), config.we_dim))"
   ]
  },
  {
   "cell_type": "code",
   "execution_count": 6,
   "metadata": {
    "collapsed": true
   },
   "outputs": [],
   "source": [
    "for w, i in w2idx_train.items():\n",
    "    idx = w2idx.get(w)\n",
    "    if idx is not None:\n",
    "        embeddings[i] = loaded_embeddings[idx]"
   ]
  },
  {
   "cell_type": "code",
   "execution_count": 7,
   "metadata": {
    "collapsed": true
   },
   "outputs": [],
   "source": [
    "qd_dev  = QuoraDataset(config.dev_filename, w2idx=w2idx_train, save_path=config.dev_save)\n",
    "qd_test = QuoraDataset(config.test_filename, w2idx=w2idx_train, save_path=config.test_save)"
   ]
  },
  {
   "cell_type": "code",
   "execution_count": 8,
   "metadata": {
    "collapsed": true
   },
   "outputs": [],
   "source": [
    "train_data = qd_train.data(padlen=config.padlen)\n",
    "dev_data = qd_dev.data(padlen=config.padlen)\n",
    "test_data = qd_test.data(padlen=config.padlen)"
   ]
  },
  {
   "cell_type": "code",
   "execution_count": 9,
   "metadata": {
    "scrolled": true
   },
   "outputs": [
    {
     "name": "stderr",
     "output_type": "stream",
     "text": [
      "\r",
      "  0%|          | 0/24018 [00:00<?, ?it/s]"
     ]
    },
    {
     "name": "stdout",
     "output_type": "stream",
     "text": [
      "Training in hid-128_feats-dist_lr-adam-0.001-relu_bs-16_drop-0.0_bn-1_emb-0_padlen-40/\n",
      "Epoch 1/10 :\n",
      "Step 0/24018\n",
      "dev acc 5.12\n"
     ]
    },
    {
     "name": "stderr",
     "output_type": "stream",
     "text": [
      "  0%|          | 3/24018 [00:56<264:50:05, 39.70s/it]"
     ]
    },
    {
     "name": "stdout",
     "output_type": "stream",
     "text": [
      "test acc 5.21\n"
     ]
    },
    {
     "name": "stderr",
     "output_type": "stream",
     "text": [
      "  4%|▍         | 999/24018 [02:30<57:38,  6.66it/s]  "
     ]
    },
    {
     "name": "stdout",
     "output_type": "stream",
     "text": [
      "Step 1000/24018\n",
      "dev acc 26.62\n"
     ]
    },
    {
     "name": "stderr",
     "output_type": "stream",
     "text": [
      "  4%|▍         | 1003/24018 [03:08<36:31:43,  5.71s/it]"
     ]
    },
    {
     "name": "stdout",
     "output_type": "stream",
     "text": [
      "test acc 26.87\n"
     ]
    },
    {
     "name": "stderr",
     "output_type": "stream",
     "text": [
      "  8%|▊         | 1999/24018 [04:40<51:26,  7.13it/s]   "
     ]
    },
    {
     "name": "stdout",
     "output_type": "stream",
     "text": [
      "Step 2000/24018\n",
      "dev acc 35.52\n"
     ]
    },
    {
     "name": "stderr",
     "output_type": "stream",
     "text": [
      "  8%|▊         | 2003/24018 [05:19<34:53:24,  5.71s/it]"
     ]
    },
    {
     "name": "stdout",
     "output_type": "stream",
     "text": [
      "test acc 35.69\n"
     ]
    },
    {
     "name": "stderr",
     "output_type": "stream",
     "text": [
      " 12%|█▏        | 2999/24018 [06:50<47:55,  7.31it/s]   "
     ]
    },
    {
     "name": "stdout",
     "output_type": "stream",
     "text": [
      "Step 3000/24018\n",
      "dev acc 40.59\n"
     ]
    },
    {
     "name": "stderr",
     "output_type": "stream",
     "text": [
      " 13%|█▎        | 3003/24018 [07:31<33:28:25,  5.73s/it]"
     ]
    },
    {
     "name": "stdout",
     "output_type": "stream",
     "text": [
      "test acc 40.79\n"
     ]
    },
    {
     "name": "stderr",
     "output_type": "stream",
     "text": [
      " 17%|█▋        | 3999/24018 [09:00<45:05,  7.40it/s]   "
     ]
    },
    {
     "name": "stdout",
     "output_type": "stream",
     "text": [
      "Step 4000/24018\n",
      "dev acc 44.47\n"
     ]
    },
    {
     "name": "stderr",
     "output_type": "stream",
     "text": [
      " 17%|█▋        | 4003/24018 [09:42<32:00:47,  5.76s/it]"
     ]
    },
    {
     "name": "stdout",
     "output_type": "stream",
     "text": [
      "test acc 44.85\n"
     ]
    },
    {
     "name": "stderr",
     "output_type": "stream",
     "text": [
      " 21%|██        | 5000/24018 [11:10<42:30,  7.46it/s]   "
     ]
    },
    {
     "name": "stdout",
     "output_type": "stream",
     "text": [
      "Step 5000/24018\n",
      "dev acc 48.01\n"
     ]
    },
    {
     "name": "stderr",
     "output_type": "stream",
     "text": [
      " 21%|██        | 5003/24018 [11:53<60:22:27, 11.43s/it]"
     ]
    },
    {
     "name": "stdout",
     "output_type": "stream",
     "text": [
      "test acc 48.38\n"
     ]
    },
    {
     "name": "stderr",
     "output_type": "stream",
     "text": [
      " 25%|██▍       | 5999/24018 [13:20<40:04,  7.49it/s]   "
     ]
    },
    {
     "name": "stdout",
     "output_type": "stream",
     "text": [
      "Step 6000/24018\n",
      "dev acc 50.52\n"
     ]
    },
    {
     "name": "stderr",
     "output_type": "stream",
     "text": [
      " 25%|██▍       | 6003/24018 [14:04<28:48:16,  5.76s/it]"
     ]
    },
    {
     "name": "stdout",
     "output_type": "stream",
     "text": [
      "test acc 50.82\n"
     ]
    },
    {
     "name": "stderr",
     "output_type": "stream",
     "text": [
      " 29%|██▉       | 6999/24018 [15:40<38:07,  7.44it/s]   "
     ]
    },
    {
     "name": "stdout",
     "output_type": "stream",
     "text": [
      "Step 7000/24018\n",
      "dev acc 52.79\n"
     ]
    },
    {
     "name": "stderr",
     "output_type": "stream",
     "text": [
      " 29%|██▉       | 7003/24018 [16:15<27:16:21,  5.77s/it]"
     ]
    },
    {
     "name": "stdout",
     "output_type": "stream",
     "text": [
      "test acc 53.11\n"
     ]
    },
    {
     "name": "stderr",
     "output_type": "stream",
     "text": [
      " 33%|███▎      | 7999/24018 [17:50<35:44,  7.47it/s]   "
     ]
    },
    {
     "name": "stdout",
     "output_type": "stream",
     "text": [
      "Step 8000/24018\n",
      "dev acc 54.57\n"
     ]
    },
    {
     "name": "stderr",
     "output_type": "stream",
     "text": [
      " 33%|███▎      | 8003/24018 [18:26<25:34:01,  5.75s/it]"
     ]
    },
    {
     "name": "stdout",
     "output_type": "stream",
     "text": [
      "test acc 54.96\n"
     ]
    },
    {
     "name": "stderr",
     "output_type": "stream",
     "text": [
      " 37%|███▋      | 8999/24018 [20:00<33:24,  7.49it/s]   "
     ]
    },
    {
     "name": "stdout",
     "output_type": "stream",
     "text": [
      "Step 9000/24018\n",
      "dev acc 56.01\n"
     ]
    },
    {
     "name": "stderr",
     "output_type": "stream",
     "text": [
      " 37%|███▋      | 9003/24018 [20:38<24:02:30,  5.76s/it]"
     ]
    },
    {
     "name": "stdout",
     "output_type": "stream",
     "text": [
      "test acc 56.52\n"
     ]
    },
    {
     "name": "stderr",
     "output_type": "stream",
     "text": [
      " 42%|████▏     | 9999/24018 [22:10<31:06,  7.51it/s]   "
     ]
    },
    {
     "name": "stdout",
     "output_type": "stream",
     "text": [
      "Step 10000/24018\n",
      "dev acc 57.43\n"
     ]
    },
    {
     "name": "stderr",
     "output_type": "stream",
     "text": [
      " 42%|████▏     | 10003/24018 [22:49<22:23:43,  5.75s/it]"
     ]
    },
    {
     "name": "stdout",
     "output_type": "stream",
     "text": [
      "test acc 57.98\n"
     ]
    },
    {
     "name": "stderr",
     "output_type": "stream",
     "text": [
      " 46%|████▌     | 10999/24018 [24:21<28:49,  7.53it/s]   "
     ]
    },
    {
     "name": "stdout",
     "output_type": "stream",
     "text": [
      "Step 11000/24018\n",
      "dev acc 58.92\n"
     ]
    },
    {
     "name": "stderr",
     "output_type": "stream",
     "text": [
      " 46%|████▌     | 11003/24018 [25:00<20:51:19,  5.77s/it]"
     ]
    },
    {
     "name": "stdout",
     "output_type": "stream",
     "text": [
      "test acc 59.55\n"
     ]
    },
    {
     "name": "stderr",
     "output_type": "stream",
     "text": [
      " 50%|████▉     | 11999/24018 [26:31<26:33,  7.54it/s]   "
     ]
    },
    {
     "name": "stdout",
     "output_type": "stream",
     "text": [
      "Step 12000/24018\n",
      "dev acc 59.90\n"
     ]
    },
    {
     "name": "stderr",
     "output_type": "stream",
     "text": [
      " 50%|████▉     | 12003/24018 [27:11<19:12:56,  5.76s/it]"
     ]
    },
    {
     "name": "stdout",
     "output_type": "stream",
     "text": [
      "test acc 60.51\n"
     ]
    },
    {
     "name": "stderr",
     "output_type": "stream",
     "text": [
      " 54%|█████▍    | 12999/24018 [28:41<24:19,  7.55it/s]   "
     ]
    },
    {
     "name": "stdout",
     "output_type": "stream",
     "text": [
      "Step 13000/24018\n",
      "dev acc 60.96\n"
     ]
    },
    {
     "name": "stderr",
     "output_type": "stream",
     "text": [
      " 54%|█████▍    | 13003/24018 [29:25<18:24:33,  6.02s/it]"
     ]
    },
    {
     "name": "stdout",
     "output_type": "stream",
     "text": [
      "test acc 61.48\n"
     ]
    },
    {
     "name": "stderr",
     "output_type": "stream",
     "text": [
      " 58%|█████▊    | 13999/24018 [31:01<22:12,  7.52it/s]   "
     ]
    },
    {
     "name": "stdout",
     "output_type": "stream",
     "text": [
      "Step 14000/24018\n",
      "dev acc 61.92\n"
     ]
    },
    {
     "name": "stderr",
     "output_type": "stream",
     "text": [
      " 58%|█████▊    | 14003/24018 [31:36<15:57:18,  5.74s/it]"
     ]
    },
    {
     "name": "stdout",
     "output_type": "stream",
     "text": [
      "test acc 62.43\n"
     ]
    },
    {
     "name": "stderr",
     "output_type": "stream",
     "text": [
      " 62%|██████▏   | 14999/24018 [33:11<19:57,  7.53it/s]   "
     ]
    },
    {
     "name": "stdout",
     "output_type": "stream",
     "text": [
      "Step 15000/24018\n",
      "dev acc 63.01\n"
     ]
    },
    {
     "name": "stderr",
     "output_type": "stream",
     "text": [
      " 62%|██████▏   | 15003/24018 [33:46<14:21:27,  5.73s/it]"
     ]
    },
    {
     "name": "stdout",
     "output_type": "stream",
     "text": [
      "test acc 63.60\n"
     ]
    },
    {
     "name": "stderr",
     "output_type": "stream",
     "text": [
      " 67%|██████▋   | 15999/24018 [35:21<17:43,  7.54it/s]   "
     ]
    },
    {
     "name": "stdout",
     "output_type": "stream",
     "text": [
      "Step 16000/24018\n",
      "dev acc 63.72\n"
     ]
    },
    {
     "name": "stderr",
     "output_type": "stream",
     "text": [
      " 67%|██████▋   | 16003/24018 [35:57<12:50:23,  5.77s/it]"
     ]
    },
    {
     "name": "stdout",
     "output_type": "stream",
     "text": [
      "test acc 64.14\n"
     ]
    },
    {
     "name": "stderr",
     "output_type": "stream",
     "text": [
      " 71%|███████   | 16999/24018 [37:31<15:29,  7.55it/s]   "
     ]
    },
    {
     "name": "stdout",
     "output_type": "stream",
     "text": [
      "Step 17000/24018\n",
      "dev acc 64.56\n"
     ]
    },
    {
     "name": "stderr",
     "output_type": "stream",
     "text": [
      " 71%|███████   | 17003/24018 [38:08<11:14:09,  5.77s/it]"
     ]
    },
    {
     "name": "stdout",
     "output_type": "stream",
     "text": [
      "test acc 64.96\n"
     ]
    },
    {
     "name": "stderr",
     "output_type": "stream",
     "text": [
      " 75%|███████▍  | 17999/24018 [39:41<13:16,  7.56it/s]   "
     ]
    },
    {
     "name": "stdout",
     "output_type": "stream",
     "text": [
      "Step 18000/24018\n",
      "dev acc 65.20\n"
     ]
    },
    {
     "name": "stderr",
     "output_type": "stream",
     "text": [
      " 75%|███████▍  | 18003/24018 [40:19<9:37:03,  5.76s/it] "
     ]
    },
    {
     "name": "stdout",
     "output_type": "stream",
     "text": [
      "test acc 65.66\n"
     ]
    },
    {
     "name": "stderr",
     "output_type": "stream",
     "text": [
      " 79%|███████▉  | 18999/24018 [41:51<11:03,  7.56it/s]  "
     ]
    },
    {
     "name": "stdout",
     "output_type": "stream",
     "text": [
      "Step 19000/24018\n",
      "dev acc 65.83\n"
     ]
    },
    {
     "name": "stderr",
     "output_type": "stream",
     "text": [
      " 79%|███████▉  | 19003/24018 [42:30<8:01:06,  5.76s/it] "
     ]
    },
    {
     "name": "stdout",
     "output_type": "stream",
     "text": [
      "test acc 66.24\n"
     ]
    },
    {
     "name": "stderr",
     "output_type": "stream",
     "text": [
      " 83%|████████▎ | 19999/24018 [44:01<08:50,  7.57it/s]  "
     ]
    },
    {
     "name": "stdout",
     "output_type": "stream",
     "text": [
      "Step 20000/24018\n",
      "dev acc 66.50\n"
     ]
    },
    {
     "name": "stderr",
     "output_type": "stream",
     "text": [
      " 83%|████████▎ | 20003/24018 [44:41<6:24:42,  5.75s/it]"
     ]
    },
    {
     "name": "stdout",
     "output_type": "stream",
     "text": [
      "test acc 66.82\n"
     ]
    },
    {
     "name": "stderr",
     "output_type": "stream",
     "text": [
      " 87%|████████▋ | 20999/24018 [46:12<06:38,  7.58it/s]  "
     ]
    },
    {
     "name": "stdout",
     "output_type": "stream",
     "text": [
      "Step 21000/24018\n",
      "dev acc 67.20\n"
     ]
    },
    {
     "name": "stderr",
     "output_type": "stream",
     "text": [
      " 87%|████████▋ | 21003/24018 [46:51<4:48:54,  5.75s/it]"
     ]
    },
    {
     "name": "stdout",
     "output_type": "stream",
     "text": [
      "test acc 67.59\n"
     ]
    },
    {
     "name": "stderr",
     "output_type": "stream",
     "text": [
      " 92%|█████████▏| 21999/24018 [48:22<04:26,  7.58it/s]  "
     ]
    },
    {
     "name": "stdout",
     "output_type": "stream",
     "text": [
      "Step 22000/24018\n",
      "dev acc 67.58\n"
     ]
    },
    {
     "name": "stderr",
     "output_type": "stream",
     "text": [
      " 92%|█████████▏| 22003/24018 [49:02<3:13:02,  5.75s/it]"
     ]
    },
    {
     "name": "stdout",
     "output_type": "stream",
     "text": [
      "test acc 68.11\n"
     ]
    },
    {
     "name": "stderr",
     "output_type": "stream",
     "text": [
      " 96%|█████████▌| 22999/24018 [50:32<02:14,  7.58it/s]  "
     ]
    },
    {
     "name": "stdout",
     "output_type": "stream",
     "text": [
      "Step 23000/24018\n",
      "dev acc 68.00\n"
     ]
    },
    {
     "name": "stderr",
     "output_type": "stream",
     "text": [
      " 96%|█████████▌| 23003/24018 [51:13<1:37:33,  5.77s/it]"
     ]
    },
    {
     "name": "stdout",
     "output_type": "stream",
     "text": [
      "test acc 68.47\n"
     ]
    },
    {
     "name": "stderr",
     "output_type": "stream",
     "text": [
      "100%|█████████▉| 23999/24018 [52:42<00:02,  7.59it/s]  "
     ]
    },
    {
     "name": "stdout",
     "output_type": "stream",
     "text": [
      "Step 24000/24018\n",
      "dev acc 68.61\n"
     ]
    },
    {
     "name": "stderr",
     "output_type": "stream",
     "text": [
      "100%|█████████▉| 24003/24018 [53:23<01:26,  5.75s/it]"
     ]
    },
    {
     "name": "stdout",
     "output_type": "stream",
     "text": [
      "test acc 68.97\n"
     ]
    },
    {
     "name": "stderr",
     "output_type": "stream",
     "text": [
      "100%|██████████| 24018/24018 [53:25<00:00,  7.49it/s]\n"
     ]
    },
    {
     "ename": "NameError",
     "evalue": "name 'os' is not defined",
     "output_type": "error",
     "traceback": [
      "\u001b[0;31m---------------------------------------------------------------------------\u001b[0m",
      "\u001b[0;31mNameError\u001b[0m                                 Traceback (most recent call last)",
      "\u001b[0;32m<ipython-input-9-8b2d2061b312>\u001b[0m in \u001b[0;36m<module>\u001b[0;34m()\u001b[0m\n\u001b[1;32m      3\u001b[0m \u001b[0mae\u001b[0m\u001b[0;34m.\u001b[0m\u001b[0mbuild\u001b[0m\u001b[0;34m(\u001b[0m\u001b[0;34m)\u001b[0m\u001b[0;34m\u001b[0m\u001b[0m\n\u001b[1;32m      4\u001b[0m \u001b[0;34m\u001b[0m\u001b[0m\n\u001b[0;32m----> 5\u001b[0;31m \u001b[0mae\u001b[0m\u001b[0;34m.\u001b[0m\u001b[0mtrain\u001b[0m\u001b[0;34m(\u001b[0m\u001b[0mtrain_data\u001b[0m\u001b[0;34m,\u001b[0m \u001b[0mdev_data\u001b[0m\u001b[0;34m,\u001b[0m \u001b[0mtest_data\u001b[0m\u001b[0;34m)\u001b[0m\u001b[0;34m\u001b[0m\u001b[0m\n\u001b[0m",
      "\u001b[0;32m<ipython-input-4-35f1b63fbce8>\u001b[0m in \u001b[0;36mtrain\u001b[0;34m(self, train_data, dev_data, test_data)\u001b[0m\n\u001b[1;32m    190\u001b[0m                 \u001b[0;32mif\u001b[0m \u001b[0mdev_acc\u001b[0m \u001b[0;34m>\u001b[0m \u001b[0mbest_acc\u001b[0m\u001b[0;34m:\u001b[0m\u001b[0;34m\u001b[0m\u001b[0m\n\u001b[1;32m    191\u001b[0m                     \u001b[0mnepoch_no_improv\u001b[0m \u001b[0;34m=\u001b[0m \u001b[0;36m0\u001b[0m\u001b[0;34m\u001b[0m\u001b[0m\n\u001b[0;32m--> 192\u001b[0;31m                     \u001b[0;32mif\u001b[0m \u001b[0;32mnot\u001b[0m \u001b[0mos\u001b[0m\u001b[0;34m.\u001b[0m\u001b[0mpath\u001b[0m\u001b[0;34m.\u001b[0m\u001b[0mexists\u001b[0m\u001b[0;34m(\u001b[0m\u001b[0mself\u001b[0m\u001b[0;34m.\u001b[0m\u001b[0mconfig\u001b[0m\u001b[0;34m.\u001b[0m\u001b[0mmodel_path\u001b[0m\u001b[0;34m)\u001b[0m\u001b[0;34m:\u001b[0m\u001b[0;34m\u001b[0m\u001b[0m\n\u001b[0m\u001b[1;32m    193\u001b[0m                         \u001b[0mos\u001b[0m\u001b[0;34m.\u001b[0m\u001b[0mmakedirs\u001b[0m\u001b[0;34m(\u001b[0m\u001b[0mself\u001b[0m\u001b[0;34m.\u001b[0m\u001b[0mconfig\u001b[0m\u001b[0;34m.\u001b[0m\u001b[0mmodel_path\u001b[0m\u001b[0;34m)\u001b[0m\u001b[0;34m\u001b[0m\u001b[0m\n\u001b[1;32m    194\u001b[0m                     \u001b[0mself\u001b[0m\u001b[0;34m.\u001b[0m\u001b[0msaver\u001b[0m\u001b[0;34m.\u001b[0m\u001b[0msave\u001b[0m\u001b[0;34m(\u001b[0m\u001b[0msess\u001b[0m\u001b[0;34m,\u001b[0m \u001b[0mself\u001b[0m\u001b[0;34m.\u001b[0m\u001b[0mconfig\u001b[0m\u001b[0;34m.\u001b[0m\u001b[0mmodel_path\u001b[0m\u001b[0;34m)\u001b[0m\u001b[0;34m\u001b[0m\u001b[0m\n",
      "\u001b[0;31mNameError\u001b[0m: name 'os' is not defined"
     ]
    }
   ],
   "source": [
    "ae = AutoEncoder(config, embeddings)\n",
    "\n",
    "ae.build()\n",
    "\n",
    "ae.train(train_data, dev_data, test_data)"
   ]
  },
  {
   "cell_type": "code",
   "execution_count": null,
   "metadata": {
    "collapsed": true
   },
   "outputs": [],
   "source": []
  }
 ],
 "metadata": {
  "kernelspec": {
   "display_name": "Python 3",
   "language": "python",
   "name": "python3"
  },
  "language_info": {
   "codemirror_mode": {
    "name": "ipython",
    "version": 3
   },
   "file_extension": ".py",
   "mimetype": "text/x-python",
   "name": "python",
   "nbconvert_exporter": "python",
   "pygments_lexer": "ipython3",
   "version": "3.6.1"
  }
 },
 "nbformat": 4,
 "nbformat_minor": 2
}
