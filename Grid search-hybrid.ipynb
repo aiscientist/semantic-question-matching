{
 "cells": [
  {
   "cell_type": "code",
   "execution_count": 1,
   "metadata": {
    "collapsed": true
   },
   "outputs": [],
   "source": [
    "import os"
   ]
  },
  {
   "cell_type": "code",
   "execution_count": 2,
   "metadata": {
    "collapsed": true
   },
   "outputs": [],
   "source": [
    "# for lr in [0.01, 0.001, 0.0001]:\n",
    "#     for opt in [\"adam\", \"sgd\"]:\n",
    "#         for hid in [64, 256, 512, 1024, 2048]:\n",
    "#             for drop in [0., 0.2, 0.5]:\n",
    "#                 os.system(\"python3 training.py -lr {} -opt {} -d {} -hid {}\".format(lr, opt, drop, hid))"
   ]
  },
  {
   "cell_type": "code",
   "execution_count": null,
   "metadata": {
    "collapsed": true
   },
   "outputs": [],
   "source": [
    "# for hid in [4096]:\n",
    "#     for drop in [0., 0.5]:\n",
    "#         for opt in [\"adam\", \"sgd\"]:\n",
    "#             for feats in [\"dist\", \"raw\", \"all\"]:\n",
    "#                 os.system(\"python3 training.py -bs 256 -hid {} -opt {} -d {} -f {}\".format(hid, opt, drop, feats))"
   ]
  },
  {
   "cell_type": "code",
   "execution_count": null,
   "metadata": {
    "collapsed": true
   },
   "outputs": [],
   "source": [
    "for hid in [64, 256, 512, 1024]:\n",
    "    for task in [\"joint\", \"mixed\"]:\n",
    "        for restrict in [0, 1000, 5000, 10000, 25000]:\n",
    "            os.system(\"python3 training.py -m hybrid -res {} -tr {} -bs 256 -hid {}\".format(restrict, task, hid))"
   ]
  },
  {
   "cell_type": "code",
   "execution_count": null,
   "metadata": {
    "collapsed": true
   },
   "outputs": [],
   "source": []
  }
 ],
 "metadata": {
  "kernelspec": {
   "display_name": "Python 3",
   "language": "python",
   "name": "python3"
  },
  "language_info": {
   "codemirror_mode": {
    "name": "ipython",
    "version": 3
   },
   "file_extension": ".py",
   "mimetype": "text/x-python",
   "name": "python",
   "nbconvert_exporter": "python",
   "pygments_lexer": "ipython3",
   "version": "3.6.1"
  }
 },
 "nbformat": 4,
 "nbformat_minor": 2
}
