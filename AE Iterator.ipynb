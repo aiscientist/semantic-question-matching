{
 "cells": [
  {
   "cell_type": "code",
   "execution_count": 1,
   "metadata": {},
   "outputs": [],
   "source": [
    "%load_ext autoreload\n",
    "%autoreload 2"
   ]
  },
  {
   "cell_type": "code",
   "execution_count": 2,
   "metadata": {
    "scrolled": true
   },
   "outputs": [],
   "source": [
    "import numpy as np\n",
    "import tensorflow as tf\n",
    "\n",
    "from model import SiameseNet\n",
    "from data_utils import QuoraDataset, DataIterator\n",
    "from config import Config\n",
    "from embeddings import load_embeddings\n",
    "\n",
    "import itertools\n",
    "\n",
    "import nltk\n",
    "nltk.data.path.append(\"nltk_data\")"
   ]
  },
  {
   "cell_type": "code",
   "execution_count": 51,
   "metadata": {},
   "outputs": [],
   "source": [
    "class DataIteratorAE(object):\n",
    "    def __init__(self, data, batch=1, strict=0):\n",
    "        self.q1, self.q2, self.l1, self.l2, self.y = data\n",
    "        self.batch = batch\n",
    "        self.i = 0\n",
    "                \n",
    "        q1, ids1 = np.unique(self.q1, return_index=True, axis=0)\n",
    "        q2, ids2 = np.unique(self.q2, return_index=True, axis=0)\n",
    "            \n",
    "        self.q = np.concatenate([q1, q2], axis=0)\n",
    "        self.l = np.concatenate([np.array(self.l1)[ids1], np.array(self.l2)[ids2]], axis=0)\n",
    "        \n",
    "        self.max = len(self.q)\n",
    "        if strict:\n",
    "            self.max -= self.max % self.batch\n",
    "        \n",
    "    def __iter__(self):\n",
    "        return self\n",
    "\n",
    "    def __next__(self):\n",
    "        if self.i < self.max:\n",
    "            ranged = (self.i, min(self.i + self.batch, self.max))\n",
    "            self.i += self.batch\n",
    "            return self.q[ranged[0]:ranged[1]], self.l[ranged[0]:ranged[1]]\n",
    "        raise StopIteration"
   ]
  },
  {
   "cell_type": "code",
   "execution_count": 4,
   "metadata": {},
   "outputs": [
    {
     "name": "stdout",
     "output_type": "stream",
     "text": [
      "Loading from saved word_embeddings\n",
      "Loading vocab\n"
     ]
    }
   ],
   "source": [
    "### Loading config and pretrained Glove embeddings\n",
    "config = Config()\n",
    "loaded_embeddings, (w2idx, idx2w) = load_embeddings(config.glove_filename, binary=False)"
   ]
  },
  {
   "cell_type": "code",
   "execution_count": 5,
   "metadata": {},
   "outputs": [],
   "source": [
    "### Loading Quora Datasets\n",
    "qd_train = QuoraDataset(config.train_filename, save_path=config.train_save)\n",
    "w2idx_train, idx2w_train = qd_train.w2idx, qd_train.idx2w\n",
    "\n",
    "embeddings = np.random.normal(scale=0.001, size=(len(w2idx_train), config.we_dim))"
   ]
  },
  {
   "cell_type": "code",
   "execution_count": 6,
   "metadata": {},
   "outputs": [],
   "source": [
    "for w, i in w2idx_train.items():\n",
    "    idx = w2idx.get(w)\n",
    "    if idx is not None:\n",
    "        embeddings[i] = loaded_embeddings[idx]"
   ]
  },
  {
   "cell_type": "code",
   "execution_count": 7,
   "metadata": {},
   "outputs": [],
   "source": [
    "qd_dev  = QuoraDataset(config.dev_filename, w2idx=w2idx_train, save_path=config.dev_save)\n",
    "qd_test = QuoraDataset(config.test_filename, w2idx=w2idx_train, save_path=config.test_save)"
   ]
  },
  {
   "cell_type": "code",
   "execution_count": 8,
   "metadata": {},
   "outputs": [],
   "source": [
    "train_data = qd_train.data(padlen=config.padlen)\n",
    "dev_data = qd_dev.data(padlen=config.padlen)\n",
    "test_data = qd_test.data(padlen=config.padlen)"
   ]
  },
  {
   "cell_type": "code",
   "execution_count": 9,
   "metadata": {},
   "outputs": [
    {
     "data": {
      "text/plain": [
       "array([[21121,   358,     2,   534,   835,    13,     0,     0,     0,\n",
       "            0],\n",
       "       [    1,   133,   134,   108,   488,   489,     7,  9534,     7,\n",
       "           13],\n",
       "       [    1,   110,   112,   320,   827,   828,    13,     0,     0,\n",
       "            0],\n",
       "       [    1,   133,   134,     0,  6122,    13,     0,     0,     0,\n",
       "            0],\n",
       "       [   88,  1762,   146,     3,  3673,   430,  6222,  1291,    74,\n",
       "         2966],\n",
       "       [    1,     2,     3,   214, 17417,    15,  1216,    30,    29,\n",
       "          323],\n",
       "       [   28,   110,    30, 11353,   127,   244,     7,   230,  2000,\n",
       "           13],\n",
       "       [  327,   133,  1465,  1466,   307,  1017,    15,   627,  1467,\n",
       "            3],\n",
       "       [  351,  1546,  1547,   462,  1548,  1549,   186,  1550,   290,\n",
       "          483],\n",
       "       [   45,    74,    28,   351,   112,  1745,   429,   194,  1746,\n",
       "           13]], dtype=int32)"
      ]
     },
     "execution_count": 9,
     "metadata": {},
     "output_type": "execute_result"
    }
   ],
   "source": [
    "np.array(dev_data[0])[:10, :10]"
   ]
  },
  {
   "cell_type": "code",
   "execution_count": 52,
   "metadata": {},
   "outputs": [],
   "source": [
    "train_ae = DataIteratorAE(train_data)\n",
    "dev_ae = DataIteratorAE(dev_data)\n",
    "test_ae = DataIteratorAE(test_data)"
   ]
  },
  {
   "cell_type": "code",
   "execution_count": 53,
   "metadata": {},
   "outputs": [
    {
     "data": {
      "text/plain": [
       "(array([[ 256, 8265,   13,    0,    0,    0,    0,    0,    0,    0,    0,\n",
       "            0,    0,    0,    0,    0,    0,    0,    0,    0,    0,    0,\n",
       "            0,    0,    0,    0,    0,    0,    0,    0,    0,    0,    0,\n",
       "            0,    0,    0,    0,    0,    0,    0]]), array([3]))"
      ]
     },
     "execution_count": 53,
     "metadata": {},
     "output_type": "execute_result"
    }
   ],
   "source": [
    "train_ae.__next__()"
   ]
  },
  {
   "cell_type": "code",
   "execution_count": 55,
   "metadata": {},
   "outputs": [
    {
     "data": {
      "text/plain": [
       "0.34613329443467633"
      ]
     },
     "execution_count": 55,
     "metadata": {},
     "output_type": "execute_result"
    }
   ],
   "source": [
    "np.random.random()"
   ]
  },
  {
   "cell_type": "code",
   "execution_count": null,
   "metadata": {},
   "outputs": [],
   "source": []
  }
 ],
 "metadata": {
  "kernelspec": {
   "display_name": "Python 3",
   "language": "python",
   "name": "python3"
  },
  "language_info": {
   "codemirror_mode": {
    "name": "ipython",
    "version": 3
   },
   "file_extension": ".py",
   "mimetype": "text/x-python",
   "name": "python",
   "nbconvert_exporter": "python",
   "pygments_lexer": "ipython3",
   "version": "3.5.2"
  }
 },
 "nbformat": 4,
 "nbformat_minor": 1
}
